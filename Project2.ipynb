{
 "cells": [
  {
   "cell_type": "markdown",
   "metadata": {},
   "source": [
    "# PROJECT 2 \n",
    "\n",
    "## QUESTION 1: \n",
    "\n",
    "1. Write a Python program to convert temperatures to and from celsius, fahrenheit\n",
    "2. Write 1 as a function (F2C and C2F)"
   ]
  },
  {
   "cell_type": "code",
   "execution_count": 18,
   "metadata": {
    "tags": []
   },
   "outputs": [
    {
     "name": "stdout",
     "output_type": "stream",
     "text": [
      "212.0°F\n"
     ]
    }
   ],
   "source": [
    "#Question_1\n",
    "\n",
    "# T(°F) = T(°C) × 9/5 + 32\n",
    "\n",
    "C = 100\n",
    "def C2F(C):\n",
    "    return C * (9/5) + 32\n",
    "\n",
    "F = C2F(C)\n",
    "print(f\"{F}°F\")"
   ]
  },
  {
   "cell_type": "code",
   "execution_count": 22,
   "metadata": {},
   "outputs": [
    {
     "name": "stdout",
     "output_type": "stream",
     "text": [
      "37.78°C\n"
     ]
    }
   ],
   "source": [
    "#T(°C) = (T(°F) -32) x 5/9\n",
    "\n",
    "F = 100\n",
    "def F2C(F):\n",
    "    return (F - 32) * 5/9\n",
    "\n",
    "C = F2C(F)\n",
    "print(f\"{C:.2f}°C\")"
   ]
  },
  {
   "cell_type": "markdown",
   "metadata": {},
   "source": [
    "## QUESTION 2:  \n",
    "\n",
    "1. Write a Python program to find those numbers which are divisible by 3 and multiple of 5, between 1000 and 3000 (both included).\n",
    "2. Modify the example above \n",
    "    - Ask user input a number\n",
    "    - Check if that number is divisible by 3 and multiple of 5\n",
    "3. Write a function that checks any number and divisibility of two numbers.\n",
    "    - def check_div(Number,DivI,DivII) \n",
    "    - Return will be a message display\n",
    "4. Write a function that checks any number and divisibility of any numbers.\n",
    "    - def check_div(Number,*Div) \n",
    "    - Return will be a message display"
   ]
  },
  {
   "cell_type": "code",
   "execution_count": 1,
   "metadata": {},
   "outputs": [
    {
     "name": "stdout",
     "output_type": "stream",
     "text": [
      "Numbers divisible by 3 and multiple of 5 between 1000 and 3000:\n",
      "1005\n",
      "1020\n",
      "1035\n",
      "1050\n",
      "1065\n",
      "1080\n",
      "1095\n",
      "1110\n",
      "1125\n",
      "1140\n",
      "1155\n",
      "1170\n",
      "1185\n",
      "1200\n",
      "1215\n",
      "1230\n",
      "1245\n",
      "1260\n",
      "1275\n",
      "1290\n",
      "1305\n",
      "1320\n",
      "1335\n",
      "1350\n",
      "1365\n",
      "1380\n",
      "1395\n",
      "1410\n",
      "1425\n",
      "1440\n",
      "1455\n",
      "1470\n",
      "1485\n",
      "1500\n",
      "1515\n",
      "1530\n",
      "1545\n",
      "1560\n",
      "1575\n",
      "1590\n",
      "1605\n",
      "1620\n",
      "1635\n",
      "1650\n",
      "1665\n",
      "1680\n",
      "1695\n",
      "1710\n",
      "1725\n",
      "1740\n",
      "1755\n",
      "1770\n",
      "1785\n",
      "1800\n",
      "1815\n",
      "1830\n",
      "1845\n",
      "1860\n",
      "1875\n",
      "1890\n",
      "1905\n",
      "1920\n",
      "1935\n",
      "1950\n",
      "1965\n",
      "1980\n",
      "1995\n",
      "2010\n",
      "2025\n",
      "2040\n",
      "2055\n",
      "2070\n",
      "2085\n",
      "2100\n",
      "2115\n",
      "2130\n",
      "2145\n",
      "2160\n",
      "2175\n",
      "2190\n",
      "2205\n",
      "2220\n",
      "2235\n",
      "2250\n",
      "2265\n",
      "2280\n",
      "2295\n",
      "2310\n",
      "2325\n",
      "2340\n",
      "2355\n",
      "2370\n",
      "2385\n",
      "2400\n",
      "2415\n",
      "2430\n",
      "2445\n",
      "2460\n",
      "2475\n",
      "2490\n",
      "2505\n",
      "2520\n",
      "2535\n",
      "2550\n",
      "2565\n",
      "2580\n",
      "2595\n",
      "2610\n",
      "2625\n",
      "2640\n",
      "2655\n",
      "2670\n",
      "2685\n",
      "2700\n",
      "2715\n",
      "2730\n",
      "2745\n",
      "2760\n",
      "2775\n",
      "2790\n",
      "2805\n",
      "2820\n",
      "2835\n",
      "2850\n",
      "2865\n",
      "2880\n",
      "2895\n",
      "2910\n",
      "2925\n",
      "2940\n",
      "2955\n",
      "2970\n",
      "2985\n",
      "3000\n",
      "2000 is not divisible by 3 and multiple of 5.\n",
      "15 is divisible by 3 and 5.\n",
      "60 is divisible by (2, 3, 4, 5).\n"
     ]
    }
   ],
   "source": [
    "#Question_2\n",
    "\n",
    "print(\"Numbers divisible by 3 and multiple of 5 between 1000 - 3000:\")\n",
    "for num in range(1000, 3001):\n",
    "    if num % 3 == 0 and num % 5 == 0:\n",
    "        print(num)\n",
    "\n",
    "number = int(input(\"Enter a number: \"))\n",
    "if number % 3 == 0 and number % 5 == 0:\n",
    "    print(number, \"is divisible by 3 and multiple of 5.\")\n",
    "else:\n",
    "    print(number, \"is not divisible by 3 and multiple of 5.\")\n",
    "\n",
    "def check_div(Number, DivI, DivII):\n",
    "    if Number % DivI == 0 and Number % DivII == 0:\n",
    "        return f\"{Number} is divisible by {DivI} and {DivII}.\"\n",
    "    else:\n",
    "        return f\"{Number} is not divisible by {DivI} and {DivII}.\"\n",
    "\n",
    "number = 15\n",
    "result = check_div(number, 3, 5)\n",
    "print(result)\n",
    "\n",
    "def check_div(Number, *Div):\n",
    "    for divisor in Div:\n",
    "        if Number % divisor != 0:\n",
    "            return f\"{Number} is not divisible by {Div}.\"\n",
    "    return f\"{Number} is divisible by {Div}.\"\n",
    "\n",
    "number = 60\n",
    "divisors = 2, 3, 4, 5\n",
    "result = check_div(number, *divisors)\n",
    "print(result)"
   ]
  },
  {
   "cell_type": "markdown",
   "metadata": {},
   "source": [
    "## QUESTION 3:  \n",
    "\n",
    "Write a Python program to guess a number between 1 to 9. \n",
    "\n",
    "- Create a number to guess\n",
    "    - static\n",
    "    - random\n",
    "- Ask user enter a number\n",
    "- Check if that is a number correct\n",
    " - If it is not ask another number\n",
    " - If it is correct display the number and number of guess"
   ]
  },
  {
   "cell_type": "code",
   "execution_count": 2,
   "metadata": {},
   "outputs": [
    {
     "name": "stdout",
     "output_type": "stream",
     "text": [
      "Wrong. Try again.\n",
      "Wrong. Try again.\n",
      "Wrong. Try again.\n",
      "Wrong. Try again.\n",
      "Wrong. Try again.\n",
      "Number of guesses 6 guess(es).\n"
     ]
    }
   ],
   "source": [
    "#Question_3\n",
    "\n",
    "import random\n",
    "\n",
    "secret_number = random.randint(1, 9)\n",
    "num_guesses = 0\n",
    "\n",
    "while True:\n",
    "    guess = int(input(\"Enter number between 1 - 9: \"))\n",
    "\n",
    "    num_guesses += 1\n",
    "    if guess == secret_number:\n",
    "        print(\"Number of guesses:\", num_guesses, \"guess(es).\")\n",
    "        break\n",
    "    else:\n",
    "        print(\"Wrong. Try again.\")"
   ]
  },
  {
   "cell_type": "markdown",
   "metadata": {},
   "source": [
    "## QUESTION 4:  \n",
    "\n",
    "Write a Python program to construct the following pattern, using a nested for loop.\n",
    "\n",
    "<img src=001.png alt=\"ex4\"\n",
    "\ttitle=\"A cute kitten\" width=\"100\" height=\"80\" />"
   ]
  },
  {
   "cell_type": "code",
   "execution_count": 24,
   "metadata": {},
   "outputs": [
    {
     "name": "stdout",
     "output_type": "stream",
     "text": [
      "* \n",
      "* * \n",
      "* * * \n",
      "* * * * \n",
      "* * * * * \n",
      "* * * * \n",
      "* * * \n",
      "* * \n",
      "* \n"
     ]
    }
   ],
   "source": [
    "#Question_4\n",
    "\n",
    "r = 5\n",
    "\n",
    "for i in range(1, r + 1):\n",
    "    print('* ' *i)\n",
    "\n",
    "for i in range(r - 1, 0, -1):\n",
    "    print('* ' * i)"
   ]
  },
  {
   "cell_type": "markdown",
   "metadata": {},
   "source": [
    "## QUESTION 5:  \n",
    "\n",
    "1. Write a Python program that accepts a word from the user and reverse it. \n",
    "\n",
    "2. Write a Python program that accepts a list from the user and reverse it. \n",
    "\n",
    "3. Write a function ```Res_Ser(*R)``` that takes number of resistor values as input, and calculates the total.  \n",
    "\n",
    "4. Write a function ```Res_Par(*R)``` that takes number of resistor values as input, and calculates the total.  \n"
   ]
  },
  {
   "cell_type": "code",
   "execution_count": 5,
   "metadata": {},
   "outputs": [
    {
     "name": "stdout",
     "output_type": "stream",
     "text": [
      "Reversed: diputs\n",
      "Reversed: ['yup']\n"
     ]
    }
   ],
   "source": [
    "#Question_5\n",
    "def reverse_word(word):\n",
    "    return word[::-1]\n",
    "\n",
    "word = input(\"Enter a word: \")\n",
    "reversed_word = reverse_word(word)\n",
    "print(\"Reversed:\", reversed_word)\n",
    "\n",
    "def reverse_list(lst):\n",
    "    return lst[::-1]\n",
    "\n",
    "lst = input(\"Enter list (separated by commas): \").split(\",\")\n",
    "reversed_lst = reverse_list(lst)\n",
    "print(\"Reversed:\", reversed_lst)"
   ]
  },
  {
   "cell_type": "code",
   "execution_count": 7,
   "metadata": {},
   "outputs": [
    {
     "name": "stdout",
     "output_type": "stream",
     "text": [
      "Total resistance in series: 60.0\n",
      "Total resistance in parallel: 13.333333333333332\n"
     ]
    }
   ],
   "source": [
    "def Res_Ser(*R):\n",
    "    total_resistance = 0\n",
    "    for resistance in R:\n",
    "        total_resistance += resistance\n",
    "    return total_resistance\n",
    "\n",
    "resistors = input(\"Enter resistor values (separated by commas): \").split(\",\")\n",
    "resistors = [float(r) for r in resistors]\n",
    "total_series = Res_Ser(*resistors)\n",
    "print(\"Total resistance in series:\", total_series)\n",
    "def Res_Par(*R):\n",
    "    total_resistance = 1 / sum(1 / r for r in R)\n",
    "    return total_resistance\n",
    "\n",
    "resistors = input(\"Enter resistor values (separated by commas): \").split(\",\")\n",
    "resistors = [float(r) for r in resistors]\n",
    "total_parallel = Res_Par(*resistors)\n",
    "print(\"Total resistance in parallel:\", total_parallel)"
   ]
  },
  {
   "cell_type": "markdown",
   "metadata": {},
   "source": [
    "## QUESTION 6:  \n",
    "\n",
    "a. Write a Python program to count the number of even and odd numbers from a series of numbers.\n",
    "\n",
    "b. Write a Python program that finds x[2n] from x[n]."
   ]
  },
  {
   "cell_type": "code",
   "execution_count": 29,
   "metadata": {},
   "outputs": [
    {
     "name": "stdout",
     "output_type": "stream",
     "text": [
      "Even: 5\n",
      "Odd: 5\n",
      "x[n]: [1, 2, 3, 4, 5, 6, 7, 8, 9, 10]\n",
      "x[2n]: [2, 4, 6, 8, 10, 12, 14, 16, 18, 20]\n"
     ]
    }
   ],
   "source": [
    "#Question_6\n",
    "#a\n",
    "def count_even_odd(num):\n",
    "    even_count = 0\n",
    "    odd_count = 0\n",
    "    for num in num:\n",
    "        if num % 2 == 0:\n",
    "            even_count += 1\n",
    "        else:\n",
    "            odd_count += 1\n",
    "    return even_count, odd_count\n",
    "\n",
    "num = [1, 2, 3, 4, 5, 6, 7, 8, 9, 10]\n",
    "even_count, odd_count = count_even_odd(num)\n",
    "\n",
    "print(f\"Even: {even_count}\")\n",
    "print(f\"Odd: {odd_count}\")\n",
    "\n",
    "#b\n",
    "def x2n(xn):\n",
    "    return [x * 2 for x in xn]\n",
    "\n",
    "xn = [1, 2, 3, 4, 5, 6, 7, 8, 9, 10]\n",
    "x2n = x2n(xn)\n",
    "\n",
    "print(f\"x[n]: {xn}\")\n",
    "print(f\"x[2n]: {x2n}\")"
   ]
  },
  {
   "cell_type": "markdown",
   "metadata": {},
   "source": [
    "## QUESTION 7:  \n",
    "\n",
    "a. Write a Python program that prints all the numbers from 0 to 20 except 3, 9, and 15.\n",
    "\n",
    "b. Write a Python program that accepts N numbers and finds the average of it."
   ]
  },
  {
   "cell_type": "code",
   "execution_count": 9,
   "metadata": {},
   "outputs": [
    {
     "name": "stdout",
     "output_type": "stream",
     "text": [
      "0\n",
      "1\n",
      "2\n",
      "4\n",
      "5\n",
      "6\n",
      "7\n",
      "8\n",
      "10\n",
      "11\n",
      "12\n",
      "13\n",
      "14\n",
      "16\n",
      "17\n",
      "18\n",
      "19\n",
      "20\n",
      "Average: 41.0\n"
     ]
    }
   ],
   "source": [
    "#Question_7\n",
    "\n",
    "for num in range(21):\n",
    "    if num not in [3, 9, 15]:\n",
    "        print(num)\n",
    "\n",
    "def avg(*N):\n",
    "    if not N:\n",
    "        return None\n",
    "    total = sum(N)\n",
    "    count = len(N)\n",
    "    average = total / count\n",
    "    return average\n",
    "\n",
    "numbers = input(\"Enter numbers (separated by commas): \").split(\",\")\n",
    "numbers = [float(num) for num in numbers]\n",
    "average = avg(*numbers)\n",
    "print(\"Average:\", average)"
   ]
  },
  {
   "cell_type": "markdown",
   "metadata": {},
   "source": [
    "## QUESTION 8:  \n",
    "\n",
    "a. Write a Python program that takes N integer random numbers between [n1,n2] where n1 > n2.\n",
    "\n",
    "b. Using the function above check if a number between [n1,n2] is in this random numbers."
   ]
  },
  {
   "cell_type": "code",
   "execution_count": 2,
   "metadata": {},
   "outputs": [
    {
     "name": "stdout",
     "output_type": "stream",
     "text": [
      "Random numbers: [-5, -6, 8, -9, -7, 7, 10, 0, 10, 3, -5, 3, -3, -6, -1, -7, 7, -5, -9, -6]\n",
      "5 is not in the random numbers.\n"
     ]
    }
   ],
   "source": [
    "#Question_8\n",
    "\n",
    "import random\n",
    "def rand_num(N, n1, n2):\n",
    "    return [random.randint(n1, n2) for _ in range(N)]\n",
    "\n",
    "def check_num(x, numbers):\n",
    "    return x in numbers\n",
    "\n",
    "N = 20\n",
    "n1 = -10\n",
    "n2 = 10\n",
    "\n",
    "numbers = rand_num(N, n1, n2)\n",
    "print(numbers)\n",
    "\n",
    "x = 5 \n",
    "if check_num(x, numbers):\n",
    "    print(f\"{x} is in the random numbers\")\n",
    "else:\n",
    "    print(f\"{x} is not in the random numbers\")"
   ]
  },
  {
   "cell_type": "markdown",
   "metadata": {},
   "source": [
    "## QUESTION 9:  \n",
    "\n",
    "Write a Python program that takes a string and determines if there is [a,b,c] in that string and how many of them. "
   ]
  },
  {
   "cell_type": "code",
   "execution_count": 31,
   "metadata": {},
   "outputs": [
    {
     "name": "stdout",
     "output_type": "stream",
     "text": [
      "Number of 'a': 1\n",
      "Number of 'b': 0\n",
      "Number of 'c': 1\n",
      "Total of [a,b,c]: 2\n"
     ]
    }
   ],
   "source": [
    "#Question_9\n",
    "def check_str(input_str):\n",
    "    A_count = input_str.count('a')\n",
    "    B_count = input_str.count('b')\n",
    "    C_count = input_str.count('c')\n",
    "    \n",
    "    Total_count = A_count + B_count + C_count\n",
    "    \n",
    "    print(f\"Number of 'a': {A_count}\")\n",
    "    print(f\"Number of 'b': {B_count}\")\n",
    "    print(f\"Number of 'c': {C_count}\")\n",
    "    print(f\"Total [a,b,c]: {Total_count}\")\n",
    "\n",
    "check_str(\"Hello how are you Chuck\")"
   ]
  },
  {
   "cell_type": "markdown",
   "metadata": {},
   "source": [
    "## QUESTION 10:  \n",
    "\n",
    "Write :\n",
    "\n",
    "* an array __A__ with 10 random letters such as ```A=[\"a\",\"c\",....]```\n",
    "* an array __B__ with 5 random numbers such as ```B=[1,2,....]```\n",
    "* ask user password lenght (must be greater than 5 and less than 8)\n",
    "* create a random password using __A__ and __B__ lists. You need to use minumum of 2 numbers and/or 2 letters."
   ]
  },
  {
   "cell_type": "code",
   "execution_count": 10,
   "metadata": {},
   "outputs": [
    {
     "name": "stdout",
     "output_type": "stream",
     "text": [
      "Generated password: d9xi9ox\n"
     ]
    }
   ],
   "source": [
    "#Question_10\n",
    "\n",
    "import random\n",
    "\n",
    "A = [random.choice(\"abcdefghijklmnopqrstuvwxyz\") for _ in range(10)]\n",
    "B = [random.randint(0, 9) for _ in range(5)]\n",
    "\n",
    "while True:\n",
    "    pswrd_length = int(input(\"Enter password length (between 5 and 7): \"))\n",
    "    if 5 <= pswrd_length <= 7:\n",
    "        break\n",
    "    else:\n",
    "        print(\"Error. Enter password length (between 5 and 7).\")\n",
    "\n",
    "pswrd = []\n",
    "while len(pswrd) < pswrd_length:\n",
    "    if len(pswrd) < pswrd_length - 2:\n",
    "        pswrd.append(random.choice(A))\n",
    "    elif len(pswrd) < pswrd_length - 2:\n",
    "        pswrd.append(str(random.choice(B)))\n",
    "    else:\n",
    "        if random.choice([True, False]):\n",
    "            pswrd.append(random.choice(A))\n",
    "        else:\n",
    "            pswrd.append(str(random.choice(B)))\n",
    "\n",
    "random.shuffle(pswrd)\n",
    "password = \"\".join(pswrd)\n",
    "print(\"Password:\", password)"
   ]
  }
 ],
 "metadata": {
  "kernelspec": {
   "display_name": "Python 3 (ipykernel)",
   "language": "python",
   "name": "python3"
  },
  "language_info": {
   "codemirror_mode": {
    "name": "ipython",
    "version": 3
   },
   "file_extension": ".py",
   "mimetype": "text/x-python",
   "name": "python",
   "nbconvert_exporter": "python",
   "pygments_lexer": "ipython3",
   "version": "3.12.1"
  },
  "latex_envs": {
   "LaTeX_envs_menu_present": true,
   "autoclose": false,
   "autocomplete": true,
   "bibliofile": "biblio.bib",
   "cite_by": "apalike",
   "current_citInitial": 1,
   "eqLabelWithNumbers": true,
   "eqNumInitial": 1,
   "hotkeys": {
    "equation": "Ctrl-E",
    "itemize": "Ctrl-I"
   },
   "labels_anchors": false,
   "latex_user_defs": false,
   "report_style_numbering": false,
   "user_envs_cfg": false
  },
  "nteract": {
   "version": "0.28.0"
  },
  "toc": {
   "base_numbering": 1,
   "nav_menu": {},
   "number_sections": false,
   "sideBar": true,
   "skip_h1_title": false,
   "title_cell": "Table of Contents",
   "title_sidebar": "Contents",
   "toc_cell": false,
   "toc_position": {},
   "toc_section_display": true,
   "toc_window_display": true
  }
 },
 "nbformat": 4,
 "nbformat_minor": 4
}
